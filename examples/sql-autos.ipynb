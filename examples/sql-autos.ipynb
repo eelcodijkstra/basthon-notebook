{
 "cells": [
  {
   "cell_type": "markdown",
   "metadata": {},
   "source": [
    "# Gebruik van SQL in een notebook\n",
    "\n",
    "Gebruik dit notebook met het bestand `autos.sql` (via de URL `module`-parameter), met de volgende inhoud:\n",
    "\n",
    "```\n",
    "CREATE TABLE autos( id integer, model text, merk text);\n",
    "INSERT INTO autos VALUES (1,'Kangoo','Renault');\n",
    "INSERT INTO autos VALUES (3,'Alpine','Renault');\n",
    "INSERT INTO autos VALUES (4,'Golf','Volkswagen');\n",
    "INSERT INTO autos VALUES (2,'Mégane','Renault');\n",
    "INSERT INTO autos VALUES (5,'Fiesta','Ford');\n",
    "INSERT INTO autos VALUES (6,'Polo','Volkswagen');\n",
    "```\n",
    "\n",
    "Je kunt daarna direct de volgende *query* uitvoeren io de tabel `autos`:"
   ]
  },
  {
   "cell_type": "code",
   "execution_count": null,
   "metadata": {},
   "outputs": [],
   "source": [
    "SELECT * FROM autos;"
   ]
  },
  {
   "cell_type": "markdown",
   "metadata": {},
   "source": [
    "Met SQL-opdrachten in een code-cel kun je een tweede tabel aanmaken:"
   ]
  },
  {
   "cell_type": "code",
   "execution_count": null,
   "metadata": {},
   "outputs": [],
   "source": [
    "CREATE TABLE fabrikanten( merk text,\n",
    "                          land   text);\n",
    "\n",
    "INSERT INTO fabrikanten VALUES ('Renault', 'Frankrijk');\n",
    "INSERT INTO fabrikanten VALUES ('Fiat','Italie');\n",
    "INSERT INTO fabrikanten VALUES ('Volkswagen','Duitsland');\n",
    "INSERT INTO fabrikanten VALUES ('Ford','USA');\n",
    "INSERT INTO fabrikanten VALUES ('Ferrari','Italië');"
   ]
  },
  {
   "cell_type": "markdown",
   "metadata": {},
   "source": [
    "De queries werken ook op deze tabel:"
   ]
  },
  {
   "cell_type": "code",
   "execution_count": null,
   "metadata": {},
   "outputs": [],
   "source": [
    "SELECT * FROM fabrikanten\n",
    "WHERE land like \"Italië\";"
   ]
  },
  {
   "cell_type": "code",
   "execution_count": null,
   "metadata": {},
   "outputs": [],
   "source": [
    "SELECT model, a.merk, land FROM autos as a\n",
    "JOIN fabrikanten as f on f.merk=a.merk;"
   ]
  },
  {
   "cell_type": "markdown",
   "metadata": {},
   "source": [
    "Je kunt de bestaande tabellen ook bijwerken:"
   ]
  },
  {
   "cell_type": "code",
   "execution_count": null,
   "metadata": {},
   "outputs": [],
   "source": [
    "UPDATE fabrikanten set land=\"Verenigde Staten\" where land = \"USA\";"
   ]
  },
  {
   "cell_type": "code",
   "execution_count": null,
   "metadata": {},
   "outputs": [],
   "source": [
    "SELECT model, a.merk, land \n",
    "FROM autos as a\n",
    "JOIN fabrikanten as f ON f.merk = a.merk;"
   ]
  }
 ],
 "metadata": {
  "kernelspec": {
   "display_name": "xsqlite",
   "language": "sqlite",
   "name": "xsqlite"
  },
  "language_info": {
   "codemirror_mode": "sql",
   "file_extension": "",
   "mimetype": "",
   "name": "sql",
   "version": "3.33.0"
  }
 },
 "nbformat": 4,
 "nbformat_minor": 4
}
