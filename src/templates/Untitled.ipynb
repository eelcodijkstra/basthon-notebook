{
    "cells": [
        {
            "cell_type": "code",
            "execution_count": null,
            "metadata": {},
            "outputs": []
        }
    ],
    "metadata": {
        "kernelspec": {
            "display_name": "<%= htmlWebpackPlugin.options.languageName %>",
            "language": "<%= htmlWebpackPlugin.options.languageSimple %>",
            "name": "<%= htmlWebpackPlugin.options.language %>"
        },
        "language_info": {
            "codemirror_mode": {
                "name": "<%= htmlWebpackPlugin.options.languageCodemirror %>",
                "version": 3
            },
            "name": "<%= htmlWebpackPlugin.options.languageSimple %>",
            "nbconvert_exporter": "<%= htmlWebpackPlugin.options.languageSimple %>"
        }
    },
    "nbformat": 4,
    "nbformat_minor": 2,
    "name": "Untitled.ipynb",
    "path": "Untitled.ipynb"
}
