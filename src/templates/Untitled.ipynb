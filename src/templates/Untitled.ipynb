{
    "cells": [
        {
            "cell_type": "code",
            "execution_count": null,
            "metadata": {},
            "outputs": []
        }
    ],
    "metadata": {
        "kernelspec": {
            "display_name": "{{BASTHON_LANGUAGE_NAME}}",
            "language": "{{BASTHON_LANGUAGE_SIMPLE}}",
            "name": "{{BASTHON_LANGUAGE}}"
        },
        "language_info": {
            "codemirror_mode": {
                "name": "{{BASTHON_LANGUAGE_CODEMIRROR}}",
                "version": 3
            },
            "name": "{{BASTHON_LANGUAGE_SIMPLE}}",
            "nbconvert_exporter": "{{BASTHON_LANGUAGE_SIMPLE}}"
        }
    },
    "nbformat": 4,
    "nbformat_minor": 2,
    "name": "Untitled.ipynb",
    "path": "Untitled.ipynb"
}
